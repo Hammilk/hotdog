get_ipython().getoutput("pip install git+https://github.com/openai/CLIP.git")
get_ipython().getoutput("pip install kagglehub")


import kagglehub

# Download latest version
path = kagglehub.dataset_download("yashvrdnjain/hotdognothotdog")

print("Path to dataset files:", path)


import pandas as pd
import numpy as np
import os
import clip
import torch
from PIL import Image
from torchvision import datasets
from torch.utils.data import DataLoader
from sklearn.metrics import accuracy_score



directory = f'{path}/hotdog-nothotdog/train/'
test_directory = f'{path}/hotdog-nothotdog/test/'


device = 'cuda' if torch.cuda.is_available() else 'cpu'
model, preprocess = clip.load('ViT-B/32', device=device)


dataset = datasets.ImageFolder(root=directory, transform=preprocess)
dataloader = DataLoader(dataset, batch_size=32, shuffle=True)


labels = ['photo of hotdog', 'photo of not a hotdog']
text_inputs = clip.tokenize(labels).to(device)
with torch.no_grad():
    text_features = model.encode_text(text_inputs)


from sklearn.metrics import classification_report

y_true = []
y_pred = []

for images, targets in dataloader:
    images = images.to(device)

    with torch.no_grad():
        image_features = model.encode_image(images)
        logits = image_features @ text_features.T
        probs = logits.softmax(dim=-1).cpu().numpy()

    for i, prob in enumerate(probs):
        pred_idx = prob.argmax()
        y_pred.append(pred_idx)
        y_true.append(targets[i].item())  # Convert tensor to int

class_names = dataset.classes
report = classification_report(y_true, y_pred, target_names=class_names)
print(report)



